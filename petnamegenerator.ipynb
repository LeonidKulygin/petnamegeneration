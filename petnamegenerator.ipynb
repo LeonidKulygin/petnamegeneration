{
 "cells": [
  {
   "cell_type": "code",
   "execution_count": 30,
   "id": "6e63422d-5d97-4c07-a0e5-23350f3a3174",
   "metadata": {},
   "outputs": [],
   "source": [
    "import torch \n",
    "import torch.nn as nn\n",
    "from torch.utils.data import DataLoader\n",
    "from collections import defaultdict\n",
    "\n",
    "import pandas as pd\n"
   ]
  },
  {
   "cell_type": "markdown",
   "id": "cc32cf17-b176-48ad-9923-0321394d83bc",
   "metadata": {},
   "source": [
    "## Data"
   ]
  },
  {
   "cell_type": "code",
   "execution_count": 12,
   "id": "961d573d-efef-445a-b2fb-48bf5bc294c7",
   "metadata": {},
   "outputs": [
    {
     "data": {
      "text/html": [
       "<div>\n",
       "<style scoped>\n",
       "    .dataframe tbody tr th:only-of-type {\n",
       "        vertical-align: middle;\n",
       "    }\n",
       "\n",
       "    .dataframe tbody tr th {\n",
       "        vertical-align: top;\n",
       "    }\n",
       "\n",
       "    .dataframe thead th {\n",
       "        text-align: right;\n",
       "    }\n",
       "</style>\n",
       "<table border=\"1\" class=\"dataframe\">\n",
       "  <thead>\n",
       "    <tr style=\"text-align: right;\">\n",
       "      <th></th>\n",
       "      <th>имя</th>\n",
       "      <th>язык</th>\n",
       "    </tr>\n",
       "  </thead>\n",
       "  <tbody>\n",
       "    <tr>\n",
       "      <th>0</th>\n",
       "      <td>acapella</td>\n",
       "      <td>en</td>\n",
       "    </tr>\n",
       "    <tr>\n",
       "      <th>1</th>\n",
       "      <td>achilles</td>\n",
       "      <td>en</td>\n",
       "    </tr>\n",
       "    <tr>\n",
       "      <th>2</th>\n",
       "      <td>adriana</td>\n",
       "      <td>en</td>\n",
       "    </tr>\n",
       "    <tr>\n",
       "      <th>3</th>\n",
       "      <td>alpha</td>\n",
       "      <td>en</td>\n",
       "    </tr>\n",
       "    <tr>\n",
       "      <th>4</th>\n",
       "      <td>alyssum</td>\n",
       "      <td>en</td>\n",
       "    </tr>\n",
       "  </tbody>\n",
       "</table>\n",
       "</div>"
      ],
      "text/plain": [
       "        имя язык\n",
       "0  acapella   en\n",
       "1  achilles   en\n",
       "2   adriana   en\n",
       "3     alpha   en\n",
       "4   alyssum   en"
      ]
     },
     "execution_count": 12,
     "metadata": {},
     "output_type": "execute_result"
    }
   ],
   "source": [
    "df = pd.read_csv('pets_ru_en.csv')\n",
    "df.loc[:, 'имя'] = df['имя'].apply(lambda x: x.lower())\n",
    "df.head()"
   ]
  },
  {
   "cell_type": "code",
   "execution_count": 13,
   "id": "2036432c-3de7-4432-9774-ab11660fb5d2",
   "metadata": {},
   "outputs": [
    {
     "data": {
      "text/html": [
       "<div>\n",
       "<style scoped>\n",
       "    .dataframe tbody tr th:only-of-type {\n",
       "        vertical-align: middle;\n",
       "    }\n",
       "\n",
       "    .dataframe tbody tr th {\n",
       "        vertical-align: top;\n",
       "    }\n",
       "\n",
       "    .dataframe thead th {\n",
       "        text-align: right;\n",
       "    }\n",
       "</style>\n",
       "<table border=\"1\" class=\"dataframe\">\n",
       "  <thead>\n",
       "    <tr style=\"text-align: right;\">\n",
       "      <th></th>\n",
       "      <th>имя</th>\n",
       "      <th>язык</th>\n",
       "    </tr>\n",
       "  </thead>\n",
       "  <tbody>\n",
       "    <tr>\n",
       "      <th>2908</th>\n",
       "      <td>ярика</td>\n",
       "      <td>rus</td>\n",
       "    </tr>\n",
       "    <tr>\n",
       "      <th>2909</th>\n",
       "      <td>яриска</td>\n",
       "      <td>rus</td>\n",
       "    </tr>\n",
       "    <tr>\n",
       "      <th>2910</th>\n",
       "      <td>ярка</td>\n",
       "      <td>rus</td>\n",
       "    </tr>\n",
       "    <tr>\n",
       "      <th>2911</th>\n",
       "      <td>яркиса</td>\n",
       "      <td>rus</td>\n",
       "    </tr>\n",
       "    <tr>\n",
       "      <th>2912</th>\n",
       "      <td>ярыся</td>\n",
       "      <td>rus</td>\n",
       "    </tr>\n",
       "  </tbody>\n",
       "</table>\n",
       "</div>"
      ],
      "text/plain": [
       "         имя язык\n",
       "2908   ярика  rus\n",
       "2909  яриска  rus\n",
       "2910    ярка  rus\n",
       "2911  яркиса  rus\n",
       "2912   ярыся  rus"
      ]
     },
     "execution_count": 13,
     "metadata": {},
     "output_type": "execute_result"
    }
   ],
   "source": [
    "df.tail()"
   ]
  },
  {
   "cell_type": "code",
   "execution_count": 14,
   "id": "094419e0-3bad-448b-8bca-d5065d956b84",
   "metadata": {},
   "outputs": [
    {
     "name": "stdout",
     "output_type": "stream",
     "text": [
      "<class 'pandas.core.frame.DataFrame'>\n",
      "RangeIndex: 2913 entries, 0 to 2912\n",
      "Data columns (total 2 columns):\n",
      " #   Column  Non-Null Count  Dtype \n",
      "---  ------  --------------  ----- \n",
      " 0   имя     2913 non-null   object\n",
      " 1   язык    2913 non-null   object\n",
      "dtypes: object(2)\n",
      "memory usage: 45.6+ KB\n"
     ]
    }
   ],
   "source": [
    "df.info()"
   ]
  },
  {
   "cell_type": "code",
   "execution_count": 15,
   "id": "7bf21aa9-2778-4f0c-b904-31e3002ffd34",
   "metadata": {},
   "outputs": [
    {
     "data": {
      "text/html": [
       "<div>\n",
       "<style scoped>\n",
       "    .dataframe tbody tr th:only-of-type {\n",
       "        vertical-align: middle;\n",
       "    }\n",
       "\n",
       "    .dataframe tbody tr th {\n",
       "        vertical-align: top;\n",
       "    }\n",
       "\n",
       "    .dataframe thead th {\n",
       "        text-align: right;\n",
       "    }\n",
       "</style>\n",
       "<table border=\"1\" class=\"dataframe\">\n",
       "  <thead>\n",
       "    <tr style=\"text-align: right;\">\n",
       "      <th></th>\n",
       "      <th>имя</th>\n",
       "      <th>язык</th>\n",
       "    </tr>\n",
       "  </thead>\n",
       "  <tbody>\n",
       "    <tr>\n",
       "      <th>count</th>\n",
       "      <td>2913</td>\n",
       "      <td>2913</td>\n",
       "    </tr>\n",
       "    <tr>\n",
       "      <th>unique</th>\n",
       "      <td>2894</td>\n",
       "      <td>2</td>\n",
       "    </tr>\n",
       "    <tr>\n",
       "      <th>top</th>\n",
       "      <td>abee</td>\n",
       "      <td>rus</td>\n",
       "    </tr>\n",
       "    <tr>\n",
       "      <th>freq</th>\n",
       "      <td>4</td>\n",
       "      <td>1783</td>\n",
       "    </tr>\n",
       "  </tbody>\n",
       "</table>\n",
       "</div>"
      ],
      "text/plain": [
       "         имя  язык\n",
       "count   2913  2913\n",
       "unique  2894     2\n",
       "top     abee   rus\n",
       "freq       4  1783"
      ]
     },
     "execution_count": 15,
     "metadata": {},
     "output_type": "execute_result"
    }
   ],
   "source": [
    "df.describe()"
   ]
  },
  {
   "cell_type": "code",
   "execution_count": 17,
   "id": "1a9f29c4-701a-4ea5-883e-17ed1160972f",
   "metadata": {},
   "outputs": [
    {
     "data": {
      "text/html": [
       "<div>\n",
       "<style scoped>\n",
       "    .dataframe tbody tr th:only-of-type {\n",
       "        vertical-align: middle;\n",
       "    }\n",
       "\n",
       "    .dataframe tbody tr th {\n",
       "        vertical-align: top;\n",
       "    }\n",
       "\n",
       "    .dataframe thead th {\n",
       "        text-align: right;\n",
       "    }\n",
       "</style>\n",
       "<table border=\"1\" class=\"dataframe\">\n",
       "  <thead>\n",
       "    <tr style=\"text-align: right;\">\n",
       "      <th></th>\n",
       "      <th>имя</th>\n",
       "      <th>язык</th>\n",
       "    </tr>\n",
       "  </thead>\n",
       "  <tbody>\n",
       "    <tr>\n",
       "      <th>155</th>\n",
       "      <td>eyes</td>\n",
       "      <td>en</td>\n",
       "    </tr>\n",
       "    <tr>\n",
       "      <th>704</th>\n",
       "      <td>cats</td>\n",
       "      <td>en</td>\n",
       "    </tr>\n",
       "    <tr>\n",
       "      <th>771</th>\n",
       "      <td>abee</td>\n",
       "      <td>en</td>\n",
       "    </tr>\n",
       "    <tr>\n",
       "      <th>772</th>\n",
       "      <td>cat</td>\n",
       "      <td>en</td>\n",
       "    </tr>\n",
       "    <tr>\n",
       "      <th>794</th>\n",
       "      <td>grey</td>\n",
       "      <td>en</td>\n",
       "    </tr>\n",
       "    <tr>\n",
       "      <th>814</th>\n",
       "      <td>photoxpress</td>\n",
       "      <td>en</td>\n",
       "    </tr>\n",
       "    <tr>\n",
       "      <th>843</th>\n",
       "      <td>abee</td>\n",
       "      <td>en</td>\n",
       "    </tr>\n",
       "    <tr>\n",
       "      <th>870</th>\n",
       "      <td>photoxpress</td>\n",
       "      <td>en</td>\n",
       "    </tr>\n",
       "    <tr>\n",
       "      <th>912</th>\n",
       "      <td>abee</td>\n",
       "      <td>en</td>\n",
       "    </tr>\n",
       "    <tr>\n",
       "      <th>913</th>\n",
       "      <td>names</td>\n",
       "      <td>en</td>\n",
       "    </tr>\n",
       "    <tr>\n",
       "      <th>959</th>\n",
       "      <td>photoxpress</td>\n",
       "      <td>en</td>\n",
       "    </tr>\n",
       "    <tr>\n",
       "      <th>960</th>\n",
       "      <td>names</td>\n",
       "      <td>en</td>\n",
       "    </tr>\n",
       "    <tr>\n",
       "      <th>988</th>\n",
       "      <td>cats</td>\n",
       "      <td>en</td>\n",
       "    </tr>\n",
       "    <tr>\n",
       "      <th>1026</th>\n",
       "      <td>com</td>\n",
       "      <td>en</td>\n",
       "    </tr>\n",
       "    <tr>\n",
       "      <th>1027</th>\n",
       "      <td>names</td>\n",
       "      <td>en</td>\n",
       "    </tr>\n",
       "    <tr>\n",
       "      <th>1067</th>\n",
       "      <td>com</td>\n",
       "      <td>en</td>\n",
       "    </tr>\n",
       "    <tr>\n",
       "      <th>1068</th>\n",
       "      <td>cats</td>\n",
       "      <td>en</td>\n",
       "    </tr>\n",
       "    <tr>\n",
       "      <th>1748</th>\n",
       "      <td>лила</td>\n",
       "      <td>rus</td>\n",
       "    </tr>\n",
       "    <tr>\n",
       "      <th>2797</th>\n",
       "      <td>эйва</td>\n",
       "      <td>rus</td>\n",
       "    </tr>\n",
       "  </tbody>\n",
       "</table>\n",
       "</div>"
      ],
      "text/plain": [
       "              имя язык\n",
       "155          eyes   en\n",
       "704          cats   en\n",
       "771          abee   en\n",
       "772           cat   en\n",
       "794          grey   en\n",
       "814   photoxpress   en\n",
       "843          abee   en\n",
       "870   photoxpress   en\n",
       "912          abee   en\n",
       "913         names   en\n",
       "959   photoxpress   en\n",
       "960         names   en\n",
       "988          cats   en\n",
       "1026          com   en\n",
       "1027        names   en\n",
       "1067          com   en\n",
       "1068         cats   en\n",
       "1748         лила  rus\n",
       "2797         эйва  rus"
      ]
     },
     "execution_count": 17,
     "metadata": {},
     "output_type": "execute_result"
    }
   ],
   "source": [
    "df[df.duplicated()]"
   ]
  },
  {
   "cell_type": "code",
   "execution_count": 18,
   "id": "37d92db7-36e6-4beb-a331-e13e1d5c8d1a",
   "metadata": {},
   "outputs": [
    {
     "data": {
      "text/html": [
       "<div>\n",
       "<style scoped>\n",
       "    .dataframe tbody tr th:only-of-type {\n",
       "        vertical-align: middle;\n",
       "    }\n",
       "\n",
       "    .dataframe tbody tr th {\n",
       "        vertical-align: top;\n",
       "    }\n",
       "\n",
       "    .dataframe thead th {\n",
       "        text-align: right;\n",
       "    }\n",
       "</style>\n",
       "<table border=\"1\" class=\"dataframe\">\n",
       "  <thead>\n",
       "    <tr style=\"text-align: right;\">\n",
       "      <th></th>\n",
       "      <th>имя</th>\n",
       "      <th>язык</th>\n",
       "    </tr>\n",
       "  </thead>\n",
       "  <tbody>\n",
       "  </tbody>\n",
       "</table>\n",
       "</div>"
      ],
      "text/plain": [
       "Empty DataFrame\n",
       "Columns: [имя, язык]\n",
       "Index: []"
      ]
     },
     "execution_count": 18,
     "metadata": {},
     "output_type": "execute_result"
    }
   ],
   "source": [
    "dfc = df.drop_duplicates()\n",
    "dfc[dfc.duplicated()]"
   ]
  },
  {
   "cell_type": "code",
   "execution_count": 10,
   "id": "e960fc9b-a67b-4976-ba7f-c69aa2476bf8",
   "metadata": {},
   "outputs": [],
   "source": [
    "stoi = defaultdict()\n",
    "stoi['<PAD>'] = 0\n",
    "stoi['<SOS>'] = 1\n",
    "stoi['<EOS>'] = 2\n",
    "stoi['rus'] = 3\n",
    "stoi['en'] = 4\n",
    "\n",
    "let = []\n",
    "for el in df['имя'].values:\n",
    "    for l in set(el):\n",
    "        let.append(l)\n",
    "let = set(let)\n",
    "for i, el in enumerate(let):\n",
    "    stoi[el] = i + 5\n",
    "itos = {stoi[el]:el for el in stoi.keys()}"
   ]
  },
  {
   "cell_type": "code",
   "execution_count": 11,
   "id": "66e22606-9253-4db6-b2da-f77b7cb88a21",
   "metadata": {},
   "outputs": [
    {
     "data": {
      "text/plain": [
       "(65, 65)"
      ]
     },
     "execution_count": 11,
     "metadata": {},
     "output_type": "execute_result"
    }
   ],
   "source": [
    "len(stoi), len(itos)"
   ]
  },
  {
   "cell_type": "code",
   "execution_count": 32,
   "id": "507d0a30-277a-4511-94ae-64418b8dcd21",
   "metadata": {},
   "outputs": [],
   "source": [
    "class PetsGetDataset(nn.Module):\n",
    "    def __init__(self, data, stoi, itos, pad_val=0, pad_size=13):\n",
    "        super(PetsGetDataset, self).__init__()\n",
    "        self.data = data\n",
    "        self.stoi = stoi\n",
    "        self.itos = itos\n",
    "        self.pad_val = pad_val\n",
    "        self.pad_size = pad_size\n",
    "        self.x = []\n",
    "        self.y = []\n",
    "        \n",
    "        for el, lang in data.values:\n",
    "            cx = self._prep(el, lang)\n",
    "            cy = cx[1:-1] + [2] + [0]\n",
    "            self.x.append(torch.tensor(cx))\n",
    "            self.y.append(torch.tensor(cy))\n",
    "            \n",
    "        \n",
    "    \n",
    "    def _prep(self, s, lang):\n",
    "        words = [self.stoi.get(l, 0) for l in s]\n",
    "        pad_total =  self.pad_size - len(words) - 2\n",
    "    \n",
    "        if pad_total >= 0:\n",
    "            return [self.stoi[lang]] + [1] + words + [2] + [self.pad_val]*pad_total\n",
    "            \n",
    "        else:\n",
    "            return [self.stoi[lang]]+ [1] + words[:pad_total] + [2]\n",
    "    \n",
    "        \n",
    "        \n",
    "    def __getitem__(self, idx):\n",
    "        return self.x[idx], self.y[idx]\n",
    "        \n",
    "    def __len__(self):\n",
    "        return len(self.data)"
   ]
  },
  {
   "cell_type": "code",
   "execution_count": 25,
   "id": "11c4778f-239e-4972-b911-ded8d82f4bb7",
   "metadata": {},
   "outputs": [],
   "source": [
    "def sample_with_temperature(logits, temperature=1.0):\n",
    "    logits = logits / temperature\n",
    "    probs = torch.softmax(logits, dim=-1)\n",
    "    return torch.multinomial(probs, num_samples=1).item()"
   ]
  },
  {
   "cell_type": "code",
   "execution_count": 50,
   "id": "2dd37df3-ce0e-49db-a2ce-a8bd3f309403",
   "metadata": {},
   "outputs": [],
   "source": [
    "def generate_pet_name(model, stoi, itos, lang='rus', max_len=10, temperature=1.0):\n",
    "    model.eval()\n",
    "    device = next(model.parameters()).device\n",
    "    generated = [stoi[lang], stoi['<SOS>']]\n",
    "    h_t = None\n",
    "    \n",
    "    for _ in range(max_len):\n",
    "        x_t = torch.tensor([generated], dtype=torch.long).to(device)\n",
    "    \n",
    "        logits = model(x_t)  \n",
    "        next_logits = logits[0, -1]\n",
    "        next_token = sample_with_temperature(next_logits, temperature)\n",
    "    \n",
    "        if next_token == stoi['<EOS>']:\n",
    "            break\n",
    "        generated.append(next_token)\n",
    "    \n",
    "    name = ''.join(itos.get(i, 0) for i in generated if i not in {stoi['<SOS>'], stoi['<EOS>'], stoi['<PAD>'], stoi['rus'], stoi['en']})\n",
    "    return name.capitalize()\n"
   ]
  },
  {
   "cell_type": "code",
   "execution_count": 41,
   "id": "527038d5-021b-43c1-aa6a-e314d300af6e",
   "metadata": {},
   "outputs": [],
   "source": [
    "def train(model, crit, dl, optim, sheduler=None):\n",
    "    model.train()\n",
    "    bl = []\n",
    "    for i, (x, y) in enumerate(dl):\n",
    "        ypr = model(x.to('cuda'))\n",
    "        y_pred_flat = ypr.reshape(-1, ypr.size(-1))  \n",
    "        y_flat = y.to('cuda').flatten() \n",
    "        loss = crit(y_pred_flat, y_flat)\n",
    "\n",
    "        loss.backward()\n",
    "        torch.nn.utils.clip_grad_norm_(model.parameters(), max_norm=1.0)\n",
    "        \n",
    "        optim.step()\n",
    "        \n",
    "        if sheduler:\n",
    "            sheduler.step()\n",
    "\n",
    "        \n",
    "        optim.zero_grad()\n",
    "        bl.append(loss.item())\n",
    "    return torch.tensor(bl).mean()"
   ]
  },
  {
   "cell_type": "code",
   "execution_count": 42,
   "id": "5effdabf-8cee-4e23-9de0-aa6ec8670211",
   "metadata": {},
   "outputs": [],
   "source": [
    "class Genmodel(nn.Module):\n",
    "    def __init__(self):\n",
    "        super(Genmodel, self).__init__()\n",
    "        self.embl = nn.Embedding(len(stoi)+1, 128)\n",
    "        self.rnn = nn.GRU(128, 64, num_layers=3, batch_first=True)\n",
    "        self.norm = nn.LayerNorm(64)\n",
    "        self.l = nn.Linear(64, len(stoi)+1)\n",
    "    \n",
    "    def forward(self, x):\n",
    "        self.embx = self.embl(x)\n",
    "        out, h = self.rnn(self.embx)\n",
    "        return self.l(self.norm(out)) "
   ]
  },
  {
   "cell_type": "code",
   "execution_count": 47,
   "id": "c15d27c7-bbcc-4bc2-85a5-1d898a4f698e",
   "metadata": {},
   "outputs": [],
   "source": [
    "ds = PetsGetDataset(df, stoi, itos)\n",
    "model = Genmodel().to('cuda')\n",
    "opt = torch.optim.AdamW(model.parameters(), lr=1e-3)\n",
    "epoch = 101\n",
    "scheduler = torch.optim.lr_scheduler.OneCycleLR(opt, max_lr = 1e-3, epochs = epoch, steps_per_epoch= len(dl),)\n",
    "\n",
    "dl = DataLoader(ds, 128, shuffle=True)\n",
    "crit = nn.CrossEntropyLoss(ignore_index=0)"
   ]
  },
  {
   "cell_type": "code",
   "execution_count": 48,
   "id": "43a31608-0be1-4290-b52c-dcaa7eaf3dc5",
   "metadata": {},
   "outputs": [
    {
     "name": "stdout",
     "output_type": "stream",
     "text": [
      "CROSS ENTROPY LOSS = 4.300046443939209\n",
      "\n",
      "en names:\n",
      "-mьvде\n",
      "Алmcчc\n",
      "Dsхnд m\n",
      "\n",
      "rus names:\n",
      "Цвтяcc\n",
      "Лsfл\n",
      "Дhмепн\n",
      "\n",
      "########## NEXT ##########\n",
      "CROSS ENTROPY LOSS = 1.7629815340042114\n",
      "\n",
      "en names:\n",
      "Dautilo\n",
      "Tpumen\n",
      "Lasma\n",
      "\n",
      "rus names:\n",
      "Лисши\n",
      "Мита\n",
      "Тетта\n",
      "\n",
      "########## NEXT ##########\n",
      "CROSS ENTROPY LOSS = 1.4829585552215576\n",
      "\n",
      "en names:\n",
      "Khama\n",
      "Oryshin\n",
      "Golcy\n",
      "\n",
      "rus names:\n",
      "Кайла\n",
      "Лейо\n",
      "Мэрли\n",
      "\n",
      "########## NEXT ##########\n",
      "CROSS ENTROPY LOSS = 1.2919609546661377\n",
      "\n",
      "en names:\n",
      "Hliner\n",
      "Thamani\n",
      "Belion\n",
      "\n",
      "rus names:\n",
      "Нейзи\n",
      "Шейна\n",
      "Жука\n",
      "\n",
      "########## NEXT ##########\n",
      "CROSS ENTROPY LOSS = 1.1862159967422485\n",
      "\n",
      "en names:\n",
      "Fleet\n",
      "Whiskey\n",
      "Shister\n",
      "\n",
      "rus names:\n",
      "Белла\n",
      "Капельк\n",
      "Астэт\n",
      "\n",
      "########## NEXT ##########\n",
      "CROSS ENTROPY LOSS = 1.1616578102111816\n",
      "\n",
      "en names:\n",
      "Silver\n",
      "Orshonп\n",
      "Godo\n",
      "\n",
      "rus names:\n",
      "Юшка\n",
      "Флемтия\n",
      "Тарамун\n",
      "\n",
      "########## NEXT ##########\n"
     ]
    }
   ],
   "source": [
    "ll = []\n",
    "for i in range(epoch):\n",
    "    l = train(model, crit, dl, opt, scheduler)\n",
    "    \n",
    "    if i % 20 == 0:\n",
    "        print(f'CROSS ENTROPY LOSS = {l}')\n",
    "        print()\n",
    "        print(\"en names:\")\n",
    "        for _ in range(3):\n",
    "            print(generate_pet_name(model, stoi, itos, lang='en', max_len=7, temperature=0.9))\n",
    "        print()\n",
    "        print(\"rus names:\")\n",
    "        for _ in range(3):\n",
    "            print(generate_pet_name(model, stoi, itos, lang='rus', max_len=7, temperature=0.9))\n",
    "        print()\n",
    "        print('#'*10, 'NEXT', '#'*10)\n",
    "        \n",
    "    ll.append(l)"
   ]
  },
  {
   "cell_type": "code",
   "execution_count": 51,
   "id": "1d9a585a-c904-4263-a55a-b2399c695a15",
   "metadata": {},
   "outputs": [
    {
     "data": {
      "text/plain": [
       "'Uпаыxpх кt'"
      ]
     },
     "execution_count": 51,
     "metadata": {},
     "output_type": "execute_result"
    }
   ],
   "source": [
    "generate_pet_name(model, stoi, itos, max_len=10, temperature=20)"
   ]
  },
  {
   "cell_type": "code",
   "execution_count": 64,
   "id": "91c7345e-747a-4283-a83c-eefc93df0eb3",
   "metadata": {},
   "outputs": [
    {
     "data": {
      "text/plain": [
       "'Рtиeинwдл'"
      ]
     },
     "execution_count": 64,
     "metadata": {},
     "output_type": "execute_result"
    }
   ],
   "source": [
    "generate_pet_name(model, stoi, itos, max_len=10, temperature=10)"
   ]
  },
  {
   "cell_type": "code",
   "execution_count": 65,
   "id": "2a03964d-a297-4587-92ee-43ec8eb2702a",
   "metadata": {},
   "outputs": [
    {
     "data": {
      "text/plain": [
       "'Дафна'"
      ]
     },
     "execution_count": 65,
     "metadata": {},
     "output_type": "execute_result"
    }
   ],
   "source": [
    "generate_pet_name(model, stoi, itos, max_len=10, temperature=0.9)"
   ]
  },
  {
   "cell_type": "code",
   "execution_count": 63,
   "id": "da9d3329-9dc2-4494-85e2-3aff76276820",
   "metadata": {},
   "outputs": [
    {
     "data": {
      "text/plain": [
       "'Ямалина'"
      ]
     },
     "execution_count": 63,
     "metadata": {},
     "output_type": "execute_result"
    }
   ],
   "source": [
    "generate_pet_name(model, stoi, itos, max_len=20, temperature=1)"
   ]
  },
  {
   "cell_type": "code",
   "execution_count": null,
   "id": "2760ae85-4287-4b0f-a8bc-de4d45aac8dd",
   "metadata": {},
   "outputs": [],
   "source": []
  }
 ],
 "metadata": {
  "kernelspec": {
   "display_name": "Python 3 (ipykernel)",
   "language": "python",
   "name": "python3"
  },
  "language_info": {
   "codemirror_mode": {
    "name": "ipython",
    "version": 3
   },
   "file_extension": ".py",
   "mimetype": "text/x-python",
   "name": "python",
   "nbconvert_exporter": "python",
   "pygments_lexer": "ipython3",
   "version": "3.12.3"
  }
 },
 "nbformat": 4,
 "nbformat_minor": 5
}
